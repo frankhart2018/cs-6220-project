{
 "cells": [
  {
   "cell_type": "code",
   "execution_count": 35,
   "id": "10705ce7",
   "metadata": {},
   "outputs": [],
   "source": [
    "from sentence_transformers import SentenceTransformer\n",
    "\n",
    "import numpy as np\n",
    "import pandas as pd\n",
    "from tqdm.notebook import tqdm\n",
    "from nltk.stem import WordNetLemmatizer\n",
    "from nltk.corpus import stopwords\n",
    "import re"
   ]
  },
  {
   "cell_type": "code",
   "execution_count": 19,
   "id": "ab3847e4",
   "metadata": {},
   "outputs": [
    {
     "data": {
      "text/plain": [
       "'As a new threat to the galaxy rises Rey a desert scavenger and Finn an exstormtrooper must join Han Solo and Chewbacca to search for the one hope of restoring peace'"
      ]
     },
     "execution_count": 19,
     "metadata": {},
     "output_type": "execute_result"
    }
   ],
   "source": [
    "re.sub(r\"[^a-zA-Z0-9 ]\", \"\", \"As a new threat to the galaxy rises, Rey, a desert scavenger, and Finn, an ex-stormtrooper, must join Han Solo and Chewbacca to search for the one hope of restoring peace.\")"
   ]
  },
  {
   "cell_type": "code",
   "execution_count": 2,
   "id": "20d33fb6",
   "metadata": {},
   "outputs": [],
   "source": [
    "df = pd.read_csv(\"movies_filled_cleaned_processed.csv\")"
   ]
  },
  {
   "cell_type": "code",
   "execution_count": 3,
   "id": "0257000c",
   "metadata": {},
   "outputs": [],
   "source": [
    "sbert_model = SentenceTransformer('bert-base-nli-mean-tokens')"
   ]
  },
  {
   "cell_type": "code",
   "execution_count": 4,
   "id": "def44eb1",
   "metadata": {},
   "outputs": [],
   "source": [
    "movie_infos = df.iloc[:, 1].tolist()"
   ]
  },
  {
   "cell_type": "code",
   "execution_count": 47,
   "id": "95672d7b",
   "metadata": {},
   "outputs": [
    {
     "data": {
      "text/plain": [
       "False"
      ]
     },
     "execution_count": 47,
     "metadata": {},
     "output_type": "execute_result"
    }
   ],
   "source": [
    "\"ant\" in stopwords.words('english')"
   ]
  },
  {
   "cell_type": "code",
   "execution_count": 48,
   "id": "b1b18f4c",
   "metadata": {},
   "outputs": [],
   "source": [
    "def lemmatize_sentence_rem_stopwords(sentence):\n",
    "    lemmatized_sentence = \"\"\n",
    "    for word in sentence.split():\n",
    "        if len(word) <= 2 or word in stopwords.words('english'):\n",
    "            continue\n",
    "        \n",
    "        lemmatized_word = lemmatizer.lemmatize(word)\n",
    "        lemmatized_sentence += lemmatizer.lemmatize(word) + \" \"\n",
    "        \n",
    "    return lemmatized_sentence.strip()"
   ]
  },
  {
   "cell_type": "code",
   "execution_count": 49,
   "id": "7471f305",
   "metadata": {},
   "outputs": [
    {
     "data": {
      "application/vnd.jupyter.widget-view+json": {
       "model_id": "6da1c161d8a043d987a3bca780ef162e",
       "version_major": 2,
       "version_minor": 0
      },
      "text/plain": [
       "  0%|          | 0/918 [00:00<?, ?it/s]"
      ]
     },
     "metadata": {},
     "output_type": "display_data"
    }
   ],
   "source": [
    "movie_infos_cleaned = []\n",
    "\n",
    "for movie_info in tqdm(movie_infos):\n",
    "    movie_info_cleaned = re.sub(r\"[^a-zA-Z0-9 ]+\", \"\", movie_info.lower())\n",
    "    movie_info_cleaned = lemmatize_sentence_rem_stopwords(movie_info_cleaned)\n",
    "    movie_infos_cleaned.append(movie_info_cleaned)"
   ]
  },
  {
   "cell_type": "code",
   "execution_count": 51,
   "id": "285283dd",
   "metadata": {},
   "outputs": [
    {
     "data": {
      "application/vnd.jupyter.widget-view+json": {
       "model_id": "f6d57b4e4b0b4be2ba5d1c9af1fb9a96",
       "version_major": 2,
       "version_minor": 0
      },
      "text/plain": [
       "  0%|          | 0/918 [00:00<?, ?it/s]"
      ]
     },
     "metadata": {},
     "output_type": "display_data"
    }
   ],
   "source": [
    "embeddings = []\n",
    "\n",
    "for movie_info in tqdm(movie_infos_cleaned):\n",
    "    embeddings.append(sbert_model.encode([movie_info])[0])"
   ]
  },
  {
   "cell_type": "code",
   "execution_count": 52,
   "id": "7aaa2f44",
   "metadata": {},
   "outputs": [],
   "source": [
    "np.save(\"embeddings.npy\", embeddings)"
   ]
  }
 ],
 "metadata": {
  "kernelspec": {
   "display_name": "Python 3 (ipykernel)",
   "language": "python",
   "name": "python3"
  },
  "language_info": {
   "codemirror_mode": {
    "name": "ipython",
    "version": 3
   },
   "file_extension": ".py",
   "mimetype": "text/x-python",
   "name": "python",
   "nbconvert_exporter": "python",
   "pygments_lexer": "ipython3",
   "version": "3.9.7"
  }
 },
 "nbformat": 4,
 "nbformat_minor": 5
}
