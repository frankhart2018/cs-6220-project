{
 "cells": [
  {
   "cell_type": "code",
   "execution_count": 2,
   "id": "4027d155",
   "metadata": {},
   "outputs": [],
   "source": [
    "# Importing modules\n",
    "import pandas as pd\n",
    "import os\n",
    "import matplotlib.pyplot as plt\n",
    "import re\n",
    "import nltk\n",
    "import seaborn as sns\n",
    "from nltk.corpus import stopwords\n",
    "stop_words = set(stopwords.words('english'))\n",
    "import matplotlib.pyplot as plt \n",
    "import seaborn as sns\n",
    "from tqdm import tqdm\n",
    "from sklearn.feature_extraction.text import TfidfVectorizer\n",
    "from sklearn.model_selection import train_test_split\n",
    "from sklearn.preprocessing import MultiLabelBinarizer\n",
    "from sklearn.linear_model import LogisticRegression\n",
    "from sklearn.multiclass import OneVsRestClassifier\n",
    "from sklearn.metrics import f1_score\n"
   ]
  },
  {
   "cell_type": "code",
   "execution_count": 10,
   "id": "34be2343",
   "metadata": {},
   "outputs": [
    {
     "name": "stderr",
     "output_type": "stream",
     "text": [
      "/Users/siddhartha/opt/anaconda3/lib/python3.9/site-packages/pandas/core/indexing.py:1951: SettingWithCopyWarning: \n",
      "A value is trying to be set on a copy of a slice from a DataFrame.\n",
      "Try using .loc[row_indexer,col_indexer] = value instead\n",
      "\n",
      "See the caveats in the documentation: https://pandas.pydata.org/pandas-docs/stable/user_guide/indexing.html#returning-a-view-versus-a-copy\n",
      "  self.obj[selected_item_labels] = value\n",
      "/var/folders/24/vwrfpr75235dkb1pp5hwqn100000gn/T/ipykernel_845/3515883411.py:23: FutureWarning: The default value of regex will change from True to False in a future version. In addition, single character regular expressions will *not* be treated as literal strings when regex=True.\n",
      "  movies_g.iloc[:, i] = movies_g.iloc[:, i].str.replace(\"[\", \"\")\n",
      "/var/folders/24/vwrfpr75235dkb1pp5hwqn100000gn/T/ipykernel_845/3515883411.py:24: FutureWarning: The default value of regex will change from True to False in a future version. In addition, single character regular expressions will *not* be treated as literal strings when regex=True.\n",
      "  movies_g.iloc[:, i] = movies_g.iloc[:, i].str.replace(\"]\", \"\")\n",
      "/var/folders/24/vwrfpr75235dkb1pp5hwqn100000gn/T/ipykernel_845/3515883411.py:26: SettingWithCopyWarning: \n",
      "A value is trying to be set on a copy of a slice from a DataFrame.\n",
      "Try using .loc[row_indexer,col_indexer] = value instead\n",
      "\n",
      "See the caveats in the documentation: https://pandas.pydata.org/pandas-docs/stable/user_guide/indexing.html#returning-a-view-versus-a-copy\n",
      "  movies_g['Genre'] = movies_g['Genre'].str.split(',')\n",
      "/Users/siddhartha/opt/anaconda3/lib/python3.9/site-packages/sklearn/multiclass.py:80: UserWarning: Label not 5 is present in all training examples.\n",
      "  warnings.warn(\"Label %s is present in all training examples.\" %\n"
     ]
    },
    {
     "name": "stdout",
     "output_type": "stream",
     "text": [
      "(' Adventure', ' Sci-Fi', 'Action')\n"
     ]
    }
   ],
   "source": [
    "\n",
    "def text_clean(text):    \n",
    "    #whitespaces \n",
    "    text = ' '.join(text.split()) \n",
    "    #everything other than alphabets \n",
    "    text = re.sub(\"[^a-zA-Z]\",\" \",text) \n",
    "    #backslash-apostrophe \n",
    "    text = re.sub(\"\\'\", \"\", text) \n",
    "    #text to lowercase \n",
    "    text = text.lower()     \n",
    "    return text\n",
    "\n",
    "  \n",
    "def stopwords(text):\n",
    "    clean_text = [i for i in text.split() if not i in stop_words]\n",
    "    return ' '.join(clean_text)\n",
    "\n",
    "\n",
    "def prediction(i, threshold = 0.3): \n",
    "    movies = pd.read_csv('../movies_filled_cleaned_processed.csv')\n",
    "    movies_g = movies[['Genre', 'Movie Info']]\n",
    "    for i, col in enumerate(movies_g.columns):\n",
    "        movies_g.iloc[:, i] = movies_g.iloc[:, i].str.replace(\"'\", \"\")\n",
    "        movies_g.iloc[:, i] = movies_g.iloc[:, i].str.replace(\"[\", \"\")\n",
    "        movies_g.iloc[:, i] = movies_g.iloc[:, i].str.replace(\"]\", \"\")\n",
    "\n",
    "    movies_g['Genre'] = movies_g['Genre'].str.split(',')\n",
    "\n",
    "    movies = movies_g\n",
    "\n",
    "    movies['Genre'][0]\n",
    "\n",
    "    movies['Movie Info Clean'] = movies['Movie Info'].apply(lambda x: text_clean(x))\n",
    "\n",
    "    movies['Movie Info Clean'] = movies['Movie Info Clean'].apply(lambda x: stopwords(x))\n",
    "\n",
    "    multilabel_binarizer = MultiLabelBinarizer()\n",
    "    multilabel_binarizer.fit(movies['Genre'])\n",
    "\n",
    "    # transform target variable\n",
    "    y = multilabel_binarizer.transform(movies['Genre'])\n",
    "\n",
    "    tfidf_vec = TfidfVectorizer(max_df=0.8, max_features=10000)\n",
    "\n",
    "    # split moviesset into training and validation set\n",
    "    Xtrain, Xval, Ytrain, Yval = train_test_split(movies['Movie Info Clean'], y, test_size=0.2, random_state=9)\n",
    "\n",
    "    # create TF-IDF features\n",
    "    Xtrain_tfidf = tfidf_vec.fit_transform(Xtrain)\n",
    "    Xval_tfidf = tfidf_vec.transform(Xval)\n",
    "\n",
    "    lr = LogisticRegression()\n",
    "    ovrclf = OneVsRestClassifier(lr)\n",
    "    ovrclf.fit(Xtrain_tfidf, Ytrain)\n",
    "\n",
    "    #threshold = 0.3 # threshold value\n",
    "    y_pred_prob = ovrclf.predict_proba(Xval_tfidf)\n",
    "    y_pred = (y_pred_prob >= threshold).astype(int)\n",
    "\n",
    "    # evaluate\n",
    "    f1_score(Yval, y_pred, average=\"micro\")\n",
    "\n",
    "    pred = multilabel_binarizer.inverse_transform(y_pred)[i]\n",
    "    \n",
    "    join_words = ' '.join([text for text in movies['Movie Info Clean']]) \n",
    "    join_words = join_words.split() \n",
    "    freqdist = nltk.FreqDist(join_words) \n",
    "    words = pd.DataFrame({'word':list(freqdist.keys()), 'count':list(freqdist.values())}) \n",
    "\n",
    "    # selecting top 20 most frequent words \n",
    "    frw = words.nlargest(columns=\"count\", n = 20) \n",
    "\n",
    "    # visualize words and frequencies\n",
    "#     plt.figure(figsize=(12,15)) \n",
    "#     ax = sns.barplot(data=frw, x= \"count\", y = \"word\") \n",
    "#     ax.set(ylabel = 'Word') \n",
    "    #shows top 20 frequent words\n",
    "#     plt.show()\n",
    "    \n",
    "    #returns the genre predictions\n",
    "    return pred\n",
    "\n",
    "\n",
    "print(prediction(30))"
   ]
  },
  {
   "cell_type": "code",
   "execution_count": 13,
   "id": "870dd215",
   "metadata": {},
   "outputs": [
    {
     "name": "stderr",
     "output_type": "stream",
     "text": [
      "/Users/siddhartha/opt/anaconda3/lib/python3.9/site-packages/pandas/core/indexing.py:1951: SettingWithCopyWarning: \n",
      "A value is trying to be set on a copy of a slice from a DataFrame.\n",
      "Try using .loc[row_indexer,col_indexer] = value instead\n",
      "\n",
      "See the caveats in the documentation: https://pandas.pydata.org/pandas-docs/stable/user_guide/indexing.html#returning-a-view-versus-a-copy\n",
      "  self.obj[selected_item_labels] = value\n",
      "/var/folders/24/vwrfpr75235dkb1pp5hwqn100000gn/T/ipykernel_845/3515883411.py:23: FutureWarning: The default value of regex will change from True to False in a future version. In addition, single character regular expressions will *not* be treated as literal strings when regex=True.\n",
      "  movies_g.iloc[:, i] = movies_g.iloc[:, i].str.replace(\"[\", \"\")\n",
      "/var/folders/24/vwrfpr75235dkb1pp5hwqn100000gn/T/ipykernel_845/3515883411.py:24: FutureWarning: The default value of regex will change from True to False in a future version. In addition, single character regular expressions will *not* be treated as literal strings when regex=True.\n",
      "  movies_g.iloc[:, i] = movies_g.iloc[:, i].str.replace(\"]\", \"\")\n",
      "/var/folders/24/vwrfpr75235dkb1pp5hwqn100000gn/T/ipykernel_845/3515883411.py:26: SettingWithCopyWarning: \n",
      "A value is trying to be set on a copy of a slice from a DataFrame.\n",
      "Try using .loc[row_indexer,col_indexer] = value instead\n",
      "\n",
      "See the caveats in the documentation: https://pandas.pydata.org/pandas-docs/stable/user_guide/indexing.html#returning-a-view-versus-a-copy\n",
      "  movies_g['Genre'] = movies_g['Genre'].str.split(',')\n",
      "/Users/siddhartha/opt/anaconda3/lib/python3.9/site-packages/sklearn/multiclass.py:80: UserWarning: Label not 5 is present in all training examples.\n",
      "  warnings.warn(\"Label %s is present in all training examples.\" %\n"
     ]
    },
    {
     "name": "stdout",
     "output_type": "stream",
     "text": [
      "(' Adventure', ' Sci-Fi', 'Action')\n"
     ]
    },
    {
     "name": "stderr",
     "output_type": "stream",
     "text": [
      "/Users/siddhartha/opt/anaconda3/lib/python3.9/site-packages/pandas/core/indexing.py:1951: SettingWithCopyWarning: \n",
      "A value is trying to be set on a copy of a slice from a DataFrame.\n",
      "Try using .loc[row_indexer,col_indexer] = value instead\n",
      "\n",
      "See the caveats in the documentation: https://pandas.pydata.org/pandas-docs/stable/user_guide/indexing.html#returning-a-view-versus-a-copy\n",
      "  self.obj[selected_item_labels] = value\n",
      "/var/folders/24/vwrfpr75235dkb1pp5hwqn100000gn/T/ipykernel_845/3515883411.py:23: FutureWarning: The default value of regex will change from True to False in a future version. In addition, single character regular expressions will *not* be treated as literal strings when regex=True.\n",
      "  movies_g.iloc[:, i] = movies_g.iloc[:, i].str.replace(\"[\", \"\")\n",
      "/var/folders/24/vwrfpr75235dkb1pp5hwqn100000gn/T/ipykernel_845/3515883411.py:24: FutureWarning: The default value of regex will change from True to False in a future version. In addition, single character regular expressions will *not* be treated as literal strings when regex=True.\n",
      "  movies_g.iloc[:, i] = movies_g.iloc[:, i].str.replace(\"]\", \"\")\n",
      "/var/folders/24/vwrfpr75235dkb1pp5hwqn100000gn/T/ipykernel_845/3515883411.py:26: SettingWithCopyWarning: \n",
      "A value is trying to be set on a copy of a slice from a DataFrame.\n",
      "Try using .loc[row_indexer,col_indexer] = value instead\n",
      "\n",
      "See the caveats in the documentation: https://pandas.pydata.org/pandas-docs/stable/user_guide/indexing.html#returning-a-view-versus-a-copy\n",
      "  movies_g['Genre'] = movies_g['Genre'].str.split(',')\n",
      "/Users/siddhartha/opt/anaconda3/lib/python3.9/site-packages/sklearn/multiclass.py:80: UserWarning: Label not 5 is present in all training examples.\n",
      "  warnings.warn(\"Label %s is present in all training examples.\" %\n"
     ]
    },
    {
     "name": "stdout",
     "output_type": "stream",
     "text": [
      "(' Adventure', ' Sci-Fi', 'Action')\n"
     ]
    },
    {
     "name": "stderr",
     "output_type": "stream",
     "text": [
      "/Users/siddhartha/opt/anaconda3/lib/python3.9/site-packages/pandas/core/indexing.py:1951: SettingWithCopyWarning: \n",
      "A value is trying to be set on a copy of a slice from a DataFrame.\n",
      "Try using .loc[row_indexer,col_indexer] = value instead\n",
      "\n",
      "See the caveats in the documentation: https://pandas.pydata.org/pandas-docs/stable/user_guide/indexing.html#returning-a-view-versus-a-copy\n",
      "  self.obj[selected_item_labels] = value\n",
      "/var/folders/24/vwrfpr75235dkb1pp5hwqn100000gn/T/ipykernel_845/3515883411.py:23: FutureWarning: The default value of regex will change from True to False in a future version. In addition, single character regular expressions will *not* be treated as literal strings when regex=True.\n",
      "  movies_g.iloc[:, i] = movies_g.iloc[:, i].str.replace(\"[\", \"\")\n",
      "/var/folders/24/vwrfpr75235dkb1pp5hwqn100000gn/T/ipykernel_845/3515883411.py:24: FutureWarning: The default value of regex will change from True to False in a future version. In addition, single character regular expressions will *not* be treated as literal strings when regex=True.\n",
      "  movies_g.iloc[:, i] = movies_g.iloc[:, i].str.replace(\"]\", \"\")\n",
      "/var/folders/24/vwrfpr75235dkb1pp5hwqn100000gn/T/ipykernel_845/3515883411.py:26: SettingWithCopyWarning: \n",
      "A value is trying to be set on a copy of a slice from a DataFrame.\n",
      "Try using .loc[row_indexer,col_indexer] = value instead\n",
      "\n",
      "See the caveats in the documentation: https://pandas.pydata.org/pandas-docs/stable/user_guide/indexing.html#returning-a-view-versus-a-copy\n",
      "  movies_g['Genre'] = movies_g['Genre'].str.split(',')\n",
      "/Users/siddhartha/opt/anaconda3/lib/python3.9/site-packages/sklearn/multiclass.py:80: UserWarning: Label not 5 is present in all training examples.\n",
      "  warnings.warn(\"Label %s is present in all training examples.\" %\n"
     ]
    },
    {
     "name": "stdout",
     "output_type": "stream",
     "text": [
      "(' Adventure', ' Sci-Fi', 'Action')\n"
     ]
    },
    {
     "data": {
      "text/plain": [
       "(None, None, None)"
      ]
     },
     "execution_count": 13,
     "metadata": {},
     "output_type": "execute_result"
    }
   ],
   "source": [
    "print(prediction(20)), print(prediction(56)), print(prediction(67))"
   ]
  },
  {
   "cell_type": "code",
   "execution_count": null,
   "id": "4ffb06f8",
   "metadata": {},
   "outputs": [],
   "source": []
  }
 ],
 "metadata": {
  "kernelspec": {
   "display_name": "Python 3 (ipykernel)",
   "language": "python",
   "name": "python3"
  },
  "language_info": {
   "codemirror_mode": {
    "name": "ipython",
    "version": 3
   },
   "file_extension": ".py",
   "mimetype": "text/x-python",
   "name": "python",
   "nbconvert_exporter": "python",
   "pygments_lexer": "ipython3",
   "version": "3.9.7"
  }
 },
 "nbformat": 4,
 "nbformat_minor": 5
}
